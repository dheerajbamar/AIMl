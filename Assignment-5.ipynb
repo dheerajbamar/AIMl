{
 "cells": [
  {
   "cell_type": "markdown",
   "metadata": {},
   "source": [
    "# CSE-221710314065-DHEERAJ BAMAR"
   ]
  },
  {
   "cell_type": "code",
   "execution_count": null,
   "metadata": {},
   "outputs": [
    {
     "name": "stdout",
     "output_type": "stream",
     "text": [
      "betterpaper87@\n",
      "Enter 'y' for another password: y\n",
      "betterlight57*\n",
      "Enter 'y' for another password: y\n",
      "betterusa82#\n",
      "Enter 'y' for another password: y\n",
      "betterpaper33@\n",
      "Enter 'y' for another password: y\n",
      "blueusa80@\n"
     ]
    }
   ],
   "source": [
    "import random\n",
    "import string\n",
    "adjective = \"red\",\"sweet\",\"good\",\"better\",\"bright\",\"blue\"\n",
    "noun = \"usa\",\"india\",\"pen\",\"laptop\",\"paper\",\"rock\",\"fan\",\"light\",\"tube\"\n",
    "special = \"!\",\"@\",\"#\",\"$\",\"^\",\"*\",\")\"\n",
    "n = \"y\"\n",
    "while n == \"y\":\n",
    "    password = random.choice(adjective)+random.choice(noun)+str(random.randint(0,100))+random.choice(special)\n",
    "    print(password)\n",
    "    n = input(\"Enter 'y' for another password: \")"
   ]
  },
  {
   "cell_type": "code",
   "execution_count": null,
   "metadata": {},
   "outputs": [],
   "source": []
  }
 ],
 "metadata": {
  "kernelspec": {
   "display_name": "Python 3",
   "language": "python",
   "name": "python3"
  },
  "language_info": {
   "codemirror_mode": {
    "name": "ipython",
    "version": 3
   },
   "file_extension": ".py",
   "mimetype": "text/x-python",
   "name": "python",
   "nbconvert_exporter": "python",
   "pygments_lexer": "ipython3",
   "version": "3.7.6"
  }
 },
 "nbformat": 4,
 "nbformat_minor": 4
}
