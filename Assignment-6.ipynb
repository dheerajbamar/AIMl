{
 "cells": [
  {
   "cell_type": "markdown",
   "metadata": {},
   "source": [
    "# CSE-221710314065-DHEERAJ BAMAR\n",
    "### NINE LIVES"
   ]
  },
  {
   "cell_type": "code",
   "execution_count": 10,
   "metadata": {},
   "outputs": [],
   "source": [
    "import random\n",
    "lives = 9\n",
    "heart_symbol = '\\u2764'\n",
    "words = [\"hello\",\"pizza\",\"apple\",\"teeth\",\"world\"]\n",
    "secret_word = random.choice(words)\n",
    "clue = list('?????')\n",
    "guessed_word_correctly = False\n"
   ]
  },
  {
   "cell_type": "code",
   "execution_count": 13,
   "metadata": {},
   "outputs": [],
   "source": [
    "def update_clue(guessed_letter,secret_word,clue):\n",
    "    index = 0\n",
    "    while index<len(secret_word):\n",
    "        if guessed_letter == secret_word[index]:\n",
    "            clue[index] = guessed_letter\n",
    "        index +=1    "
   ]
  },
  {
   "cell_type": "code",
   "execution_count": 17,
   "metadata": {},
   "outputs": [
    {
     "name": "stdout",
     "output_type": "stream",
     "text": [
      "['?', '?', '?', '?', '?']\n",
      "lives left: ❤❤❤❤❤\n",
      "guess a letter or whole wordh\n",
      "incorrect guess you lose a life\n",
      "['?', '?', '?', '?', '?']\n",
      "lives left: ❤❤❤❤\n",
      "guess a letter or whole wordp\n",
      "['p', '?', '?', '?', '?']\n",
      "lives left: ❤❤❤❤\n",
      "guess a letter or whole wordi\n",
      "['p', 'i', '?', '?', '?']\n",
      "lives left: ❤❤❤❤\n",
      "guess a letter or whole wordpizza\n"
     ]
    }
   ],
   "source": [
    "while lives>0:\n",
    "    print(clue)\n",
    "    print(\"lives left:\",heart_symbol*lives)\n",
    "    guess = input(\"guess a letter or whole word\")\n",
    "    if guess == secret_word:\n",
    "        guessed_word_correctly = True\n",
    "        break\n",
    "    elif guess in secret_word:\n",
    "        update_clue(guess,secret_word,clue)\n",
    "    else:\n",
    "        print(\"incorrect guess you lose a life\")\n",
    "        lives -= 1\n",
    "\n",
    "        \n",
    "        "
   ]
  },
  {
   "cell_type": "code",
   "execution_count": null,
   "metadata": {},
   "outputs": [],
   "source": []
  }
 ],
 "metadata": {
  "kernelspec": {
   "display_name": "Python 3",
   "language": "python",
   "name": "python3"
  },
  "language_info": {
   "codemirror_mode": {
    "name": "ipython",
    "version": 3
   },
   "file_extension": ".py",
   "mimetype": "text/x-python",
   "name": "python",
   "nbconvert_exporter": "python",
   "pygments_lexer": "ipython3",
   "version": "3.7.6"
  }
 },
 "nbformat": 4,
 "nbformat_minor": 4
}
