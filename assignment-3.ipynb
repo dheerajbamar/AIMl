{
 "cells": [
  {
   "cell_type": "markdown",
   "metadata": {},
   "source": [
    "# CSE-221710314065-DHEERAJ BAMAR"
   ]
  },
  {
   "cell_type": "markdown",
   "metadata": {},
   "source": [
    "## QUESTION-1"
   ]
  },
  {
   "cell_type": "code",
   "execution_count": 11,
   "metadata": {},
   "outputs": [
    {
     "name": "stdout",
     "output_type": "stream",
     "text": [
      "enter a number5\n",
      "The factorial of 5 is 120\n"
     ]
    }
   ],
   "source": [
    "def fact(n):\n",
    "    if n == 1:\n",
    "    return n\n",
    "    else:\n",
    "        return n*fact(n-1)\n",
    "num = int(input(\"enter a number\"))                    \n",
    "if num < 0:  \n",
    "    print(\"Sorry, factorial does not exist for negative numbers\")  \n",
    "elif num == 0:  \n",
    "    print(\"The factorial of 0 is 1\")  \n",
    "else:  \n",
    "    print(\"The factorial of\",num,\"is\", fact(num))      \n",
    "    "
   ]
  },
  {
   "cell_type": "markdown",
   "metadata": {},
   "source": [
    "## QUESTION-2"
   ]
  },
  {
   "cell_type": "code",
   "execution_count": 14,
   "metadata": {},
   "outputs": [
    {
     "name": "stdout",
     "output_type": "stream",
     "text": [
      "How many terms? 7\n",
      "Fibonacci sequence:\n",
      "0 1 1 2 3 5 8 "
     ]
    }
   ],
   "source": [
    "def fib(n):  \n",
    "    if n <= 1:  \n",
    "        return n  \n",
    "    else:  \n",
    "        return(fib(n-1) + fib(n-2))  \n",
    "nterms = int(input(\"How many terms? \"))    \n",
    "if nterms <= 0:  \n",
    "    print(\"Plese enter a positive integer\")  \n",
    "else:  \n",
    "    print(\"Fibonacci sequence:\")  \n",
    "    for i in range(nterms):  \n",
    "        print(fib(i),end=\" \")  "
   ]
  },
  {
   "cell_type": "markdown",
   "metadata": {},
   "source": [
    "## QUESTION-3"
   ]
  },
  {
   "cell_type": "code",
   "execution_count": 6,
   "metadata": {},
   "outputs": [
    {
     "name": "stdout",
     "output_type": "stream",
     "text": [
      "Sum of all elements in given list:  74\n"
     ]
    }
   ],
   "source": [
    "summ = 0\n",
    "list1 = [11, 5, 17, 18, 23]  \n",
    "for i in range(0, len(list1)): \n",
    "    summ = summ + list1[i] \n",
    "print(\"Sum of all elements in given list: \", summ) "
   ]
  },
  {
   "cell_type": "markdown",
   "metadata": {},
   "source": [
    "## QUESTION -4"
   ]
  },
  {
   "cell_type": "code",
   "execution_count": 10,
   "metadata": {},
   "outputs": [
    {
     "name": "stdout",
     "output_type": "stream",
     "text": [
      "10 4 66 "
     ]
    }
   ],
   "source": [
    "list1 = [10, 21, 4, 45, 66, 93] \n",
    "for num in list1: \n",
    "      if num % 2 == 0: \n",
    "        print(num, end = \" \") "
   ]
  },
  {
   "cell_type": "markdown",
   "metadata": {},
   "source": [
    "## question -5"
   ]
  },
  {
   "cell_type": "code",
   "execution_count": 11,
   "metadata": {},
   "outputs": [
    {
     "name": "stdout",
     "output_type": "stream",
     "text": [
      "Smallest element is: 4\n",
      "Index of smallest element is: 2\n"
     ]
    }
   ],
   "source": [
    "ist1 = [10, 20, 8, 45, 99] \n",
    "print(\"Smallest element is:\", min(list1)) \n",
    "print(\"Index of smallest element is:\",list1.index(min(list1)))"
   ]
  },
  {
   "cell_type": "markdown",
   "metadata": {},
   "source": [
    "## question-6"
   ]
  },
  {
   "cell_type": "code",
   "execution_count": 12,
   "metadata": {},
   "outputs": [
    {
     "name": "stdout",
     "output_type": "stream",
     "text": [
      "enter a string: racecar\n",
      "given string is a palindrome\n"
     ]
    }
   ],
   "source": [
    "s = input(\"enter a string: \")\n",
    "if s == s[::-1]:\n",
    "    print(\"given string is a palindrome\")\n",
    "else:\n",
    "    print(\"not a palindrome\")"
   ]
  },
  {
   "cell_type": "markdown",
   "metadata": {},
   "source": [
    "## Question-7"
   ]
  },
  {
   "cell_type": "code",
   "execution_count": 13,
   "metadata": {},
   "outputs": [
    {
     "name": "stdout",
     "output_type": "stream",
     "text": [
      "number of even numbers & odd numbers are: 4 & 5\n"
     ]
    }
   ],
   "source": [
    "list1 = [1,2,3,4,5,6,7,8,9]\n",
    "evensum=0\n",
    "oddsum=0\n",
    "for i in list1:\n",
    "    if i%2 == 0:\n",
    "        evensum +=1 \n",
    "    else:\n",
    "        oddsum += 1\n",
    "print(\"number of even numbers & odd numbers are:\",evensum,\"&\",oddsum)"
   ]
  },
  {
   "cell_type": "markdown",
   "metadata": {},
   "source": [
    "## Question -8"
   ]
  },
  {
   "cell_type": "code",
   "execution_count": 14,
   "metadata": {},
   "outputs": [
    {
     "name": "stdout",
     "output_type": "stream",
     "text": [
      "0 1 2 4 5 "
     ]
    }
   ],
   "source": [
    "for x in range(6):\n",
    "    if (x == 3 or x==6):\n",
    "        continue\n",
    "    print(x,end=' ')\n"
   ]
  },
  {
   "cell_type": "markdown",
   "metadata": {},
   "source": [
    "## Question-9"
   ]
  },
  {
   "cell_type": "code",
   "execution_count": 15,
   "metadata": {},
   "outputs": [
    {
     "name": "stdout",
     "output_type": "stream",
     "text": [
      "Enter a number: 7\n",
      "It is a prime number\n"
     ]
    }
   ],
   "source": [
    "num = int(input(\"Enter a number: \"))\n",
    "if num > 1:\n",
    "    for i in range(2, num):\n",
    "        if (num % i) == 0:\n",
    "            print(\"It is not a prime number\")\n",
    "            break\n",
    "    else:\n",
    "        print(\"It is a prime number\")\n",
    "else:\n",
    "    print(\"Not a prime number\")"
   ]
  },
  {
   "cell_type": "markdown",
   "metadata": {},
   "source": [
    "## question-10"
   ]
  },
  {
   "cell_type": "code",
   "execution_count": 16,
   "metadata": {},
   "outputs": [
    {
     "name": "stdout",
     "output_type": "stream",
     "text": [
      "enter a number12\n",
      "Adam number\n"
     ]
    }
   ],
   "source": [
    "n = int(input(\"enter a number\"))\n",
    "print(\"Adam number\") if int(str(n**2)[::-1]) == int(str(n)[::-1])**2 else print(\"Not an Adam number\")"
   ]
  },
  {
   "cell_type": "code",
   "execution_count": null,
   "metadata": {},
   "outputs": [],
   "source": []
  }
 ],
 "metadata": {
  "kernelspec": {
   "display_name": "Python 3",
   "language": "python",
   "name": "python3"
  },
  "language_info": {
   "codemirror_mode": {
    "name": "ipython",
    "version": 3
   },
   "file_extension": ".py",
   "mimetype": "text/x-python",
   "name": "python",
   "nbconvert_exporter": "python",
   "pygments_lexer": "ipython3",
   "version": "3.7.6"
  }
 },
 "nbformat": 4,
 "nbformat_minor": 4
}
